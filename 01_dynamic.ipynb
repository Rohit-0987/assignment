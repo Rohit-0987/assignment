{
 "cells": [
  {
   "cell_type": "code",
   "execution_count": 13,
   "id": "022178e7",
   "metadata": {},
   "outputs": [
    {
     "name": "stdout",
     "output_type": "stream",
     "text": [
      "220\n"
     ]
    }
   ],
   "source": [
    "def knapsack(w,profit,weight,n):\n",
    "    if n==0 or w==0:\n",
    "        return 0\n",
    "    if t[n][w] != -1:\n",
    "        return t[n][w]\n",
    "    \n",
    "    if(weight[n-1]>w):\n",
    "        t[n][w] = knapsack(w,profit,weight,n-1)\n",
    "        return t[n][w]\n",
    "    else:\n",
    "        t[n][w] = max(profit[n-1]+knapsack(w-weight[n-1],profit,weight,n-1),knapsack(w,profit,weight,n-1))\n",
    "        return t[n][w]\n",
    "if __name__ == '__main__':\n",
    "    profit = [60,100,120]\n",
    "    weight = [10,20,30]\n",
    "    w  = 50\n",
    "    n = len(profit)\n",
    "    t = [[-1 for i in range(W + 1)] for j in range(n + 1)] \n",
    "    print(knapsack(w,profit,weight,n))"
   ]
  },
  {
   "cell_type": "code",
   "execution_count": null,
   "id": "57725d8e",
   "metadata": {},
   "outputs": [],
   "source": []
  }
 ],
 "metadata": {
  "kernelspec": {
   "display_name": "Python 3 (ipykernel)",
   "language": "python",
   "name": "python3"
  },
  "language_info": {
   "codemirror_mode": {
    "name": "ipython",
    "version": 3
   },
   "file_extension": ".py",
   "mimetype": "text/x-python",
   "name": "python",
   "nbconvert_exporter": "python",
   "pygments_lexer": "ipython3",
   "version": "3.10.7"
  }
 },
 "nbformat": 4,
 "nbformat_minor": 5
}
