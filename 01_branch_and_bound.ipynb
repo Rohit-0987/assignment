{
 "cells": [
  {
   "cell_type": "code",
   "execution_count": 1,
   "id": "ad868d18",
   "metadata": {},
   "outputs": [
    {
     "name": "stdout",
     "output_type": "stream",
     "text": [
      "Maximum value: -20\n"
     ]
    }
   ],
   "source": [
    "class Item:\n",
    "    def __init__(self, value, weight):\n",
    "        self.value = value\n",
    "        self.weight = weight\n",
    "        self.ratio = value / weight\n",
    "\n",
    "def knapsack_bb(items, capacity):\n",
    "    # Sort items by value-to-weight ratio (greedy step)\n",
    "    items.sort(key=lambda x: x.ratio, reverse=True)\n",
    "\n",
    "    def upper_bound(node, n, capacity):\n",
    "        if node.weight >= capacity:\n",
    "            return 0\n",
    "        upper_bound_value = node.value\n",
    "        j = node.level + 1\n",
    "        total_weight = node.weight\n",
    "        while j < n and total_weight + items[j].weight <= capacity:\n",
    "            upper_bound_value += items[j].value\n",
    "            total_weight += items[j].weight\n",
    "            j += 1\n",
    "        if j < n:\n",
    "            upper_bound_value += (capacity - total_weight) * items[j].ratio\n",
    "        return upper_bound_value\n",
    "\n",
    "    class Node:\n",
    "        def __init__(self, level, value, weight):\n",
    "            self.level = level\n",
    "            self.value = value\n",
    "            self.weight = weight\n",
    "            self.bound = 0\n",
    "\n",
    "    n = len(items)\n",
    "    max_value = 0\n",
    "    max_node = Node(-1, 0, 0)\n",
    "    current_node = Node(0, 0, 0)\n",
    "\n",
    "    while current_node.level < n - 1:\n",
    "        current_node.level += 1\n",
    "\n",
    "        if current_node.weight + items[current_node.level].weight <= capacity:\n",
    "            current_node.weight += items[current_node.level].weight\n",
    "            current_node.value += items[current_node.level].value\n",
    "        current_node.bound = upper_bound(current_node, n, capacity)\n",
    "\n",
    "        if current_node.bound > max_value:\n",
    "            max_node = current_node\n",
    "\n",
    "        if current_node.bound > max_value:\n",
    "            current_node.level += 1\n",
    "            current_node.weight -= items[current_node.level].weight\n",
    "            current_node.value -= items[current_node.level].value\n",
    "\n",
    "    return max_node.value\n",
    "\n",
    "# Example usage\n",
    "items = [Item(60, 10), Item(100, 20), Item(120, 30)]\n",
    "capacity = 50\n",
    "\n",
    "max_value = knapsack_bb(items, capacity)\n",
    "print(\"Maximum value:\", max_value)\n"
   ]
  },
  {
   "cell_type": "code",
   "execution_count": null,
   "id": "e2f15e01",
   "metadata": {},
   "outputs": [],
   "source": []
  }
 ],
 "metadata": {
  "kernelspec": {
   "display_name": "Python 3 (ipykernel)",
   "language": "python",
   "name": "python3"
  },
  "language_info": {
   "codemirror_mode": {
    "name": "ipython",
    "version": 3
   },
   "file_extension": ".py",
   "mimetype": "text/x-python",
   "name": "python",
   "nbconvert_exporter": "python",
   "pygments_lexer": "ipython3",
   "version": "3.10.7"
  }
 },
 "nbformat": 4,
 "nbformat_minor": 5
}
